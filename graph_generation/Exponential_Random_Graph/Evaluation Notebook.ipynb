{
 "cells": [
  {
   "cell_type": "markdown",
   "metadata": {},
   "source": [
    "# Set-Up"
   ]
  },
  {
   "cell_type": "code",
   "execution_count": 1,
   "metadata": {},
   "outputs": [],
   "source": [
    "import os, collections\n",
    "import numpy as np\n",
    "import seaborn as sns\n",
    "import networkx as nx\n",
    "import pandas as pd\n",
    "from scipy import spatial\n",
    "\n",
    "from utils.embeddings import *\n",
    "from utils.mcmc import *\n",
    "from utils.spectral import *\n",
    "from utils.create_graphs import *\n",
    "\n",
    "%matplotlib inline\n",
    "import matplotlib.pyplot as plt\n",
    "import matplotlib"
   ]
  },
  {
   "cell_type": "markdown",
   "metadata": {},
   "source": [
    "load the graphs"
   ]
  },
  {
   "cell_type": "code",
   "execution_count": 2,
   "metadata": {},
   "outputs": [],
   "source": [
    "graph_type = 'small_world'"
   ]
  },
  {
   "cell_type": "code",
   "execution_count": 3,
   "metadata": {},
   "outputs": [],
   "source": [
    "## create the training data\n",
    "Graphs_train = [] \n",
    "Graphs_test = [] \n",
    "Ngraphs = 10\n",
    "Nnodes = 1000\n",
    "for i in range(Ngraphs):\n",
    "    Graphs_train.append(nx.newman_watts_strogatz_graph(n=Nnodes, k=2, p=0.2))\n",
    "    Graphs_test.append(nx.newman_watts_strogatz_graph(n=Nnodes, k=2, p=0.2))"
   ]
  },
  {
   "cell_type": "code",
   "execution_count": 4,
   "metadata": {},
   "outputs": [
    {
     "ename": "FileNotFoundError",
     "evalue": "[Errno 2] No such file or directory: 'graphs/data/small_world/train'",
     "output_type": "error",
     "traceback": [
      "\u001b[0;31m---------------------------------------------------------------------------\u001b[0m",
      "\u001b[0;31mFileNotFoundError\u001b[0m                         Traceback (most recent call last)",
      "\u001b[0;32m<ipython-input-4-aab5321d1ef0>\u001b[0m in \u001b[0;36m<module>\u001b[0;34m\u001b[0m\n\u001b[1;32m      2\u001b[0m \u001b[0mGraphs_train\u001b[0m \u001b[0;34m=\u001b[0m \u001b[0;34m[\u001b[0m\u001b[0;34m]\u001b[0m\u001b[0;34m\u001b[0m\u001b[0;34m\u001b[0m\u001b[0m\n\u001b[1;32m      3\u001b[0m \u001b[0mpath\u001b[0m \u001b[0;34m=\u001b[0m \u001b[0;34m'graphs/data/'\u001b[0m \u001b[0;34m+\u001b[0m \u001b[0mgraph_type\u001b[0m \u001b[0;34m+\u001b[0m \u001b[0;34m'/train'\u001b[0m\u001b[0;34m\u001b[0m\u001b[0;34m\u001b[0m\u001b[0m\n\u001b[0;32m----> 4\u001b[0;31m \u001b[0mfnames\u001b[0m \u001b[0;34m=\u001b[0m \u001b[0mos\u001b[0m\u001b[0;34m.\u001b[0m\u001b[0mlistdir\u001b[0m\u001b[0;34m(\u001b[0m\u001b[0mpath\u001b[0m\u001b[0;34m)\u001b[0m\u001b[0;34m\u001b[0m\u001b[0;34m\u001b[0m\u001b[0m\n\u001b[0m\u001b[1;32m      5\u001b[0m \u001b[0mfnames\u001b[0m \u001b[0;34m=\u001b[0m \u001b[0;34m[\u001b[0m\u001b[0mf\u001b[0m \u001b[0;32mfor\u001b[0m \u001b[0mf\u001b[0m \u001b[0;32min\u001b[0m \u001b[0mfnames\u001b[0m \u001b[0;32mif\u001b[0m \u001b[0mf\u001b[0m\u001b[0;34m.\u001b[0m\u001b[0mendswith\u001b[0m\u001b[0;34m(\u001b[0m\u001b[0;34m'.gz'\u001b[0m\u001b[0;34m)\u001b[0m\u001b[0;34m]\u001b[0m\u001b[0;34m\u001b[0m\u001b[0;34m\u001b[0m\u001b[0m\n\u001b[1;32m      6\u001b[0m \u001b[0;32mfor\u001b[0m \u001b[0mi\u001b[0m \u001b[0;32min\u001b[0m \u001b[0mrange\u001b[0m\u001b[0;34m(\u001b[0m\u001b[0mlen\u001b[0m\u001b[0;34m(\u001b[0m\u001b[0mfnames\u001b[0m\u001b[0;34m)\u001b[0m\u001b[0;34m)\u001b[0m\u001b[0;34m:\u001b[0m\u001b[0;34m\u001b[0m\u001b[0;34m\u001b[0m\u001b[0m\n",
      "\u001b[0;31mFileNotFoundError\u001b[0m: [Errno 2] No such file or directory: 'graphs/data/small_world/train'"
     ]
    }
   ],
   "source": [
    "## load the train graphs\n",
    "Graphs_train = []\n",
    "path = 'graphs/data/' + graph_type + '/train'\n",
    "fnames = os.listdir(path)\n",
    "fnames = [f for f in fnames if f.endswith('.gz')]\n",
    "for i in range(len(fnames)):\n",
    "    Graphs_train.append(nx.read_edgelist(path + '/' + fnames[i]))\n",
    "\n",
    "## load the test graphs\n",
    "Graphs_test = []\n",
    "path = 'graphs/data/' + graph_type + '/test'\n",
    "fnames = os.listdir(path)\n",
    "fnames = [f for f in fnames if f.endswith('.gz')]\n",
    "for i in range(len(fnames)):\n",
    "    Graphs_test.append(nx.read_edgelist(path + '/' + fnames[i]))"
   ]
  },
  {
   "cell_type": "code",
   "execution_count": 5,
   "metadata": {},
   "outputs": [],
   "source": [
    "## load the Neural ERGM simulated graphs\n",
    "Graphs_nergm = []\n",
    "path = 'graphs/generated/' + graph_type + '/'\n",
    "fnames = os.listdir(path)\n",
    "fnames = [f for f in fnames if f.endswith('.gz')]\n",
    "for i in range(len(fnames)):\n",
    "    Graphs_nergm.append(nx.read_edgelist(path + '/' + fnames[i]))"
   ]
  },
  {
   "cell_type": "markdown",
   "metadata": {},
   "source": [
    "Also generate a set of \"null\" graphs corresponding to ER graphs"
   ]
  },
  {
   "cell_type": "code",
   "execution_count": 6,
   "metadata": {},
   "outputs": [],
   "source": [
    "Graphs_null = []\n",
    "for i in range(len(Graphs_test)):\n",
    "    Graphs_null.append(nx.erdos_renyi_graph(Graphs_test[i].number_of_nodes(), nx.density(Graphs_test[i])))"
   ]
  },
  {
   "cell_type": "markdown",
   "metadata": {},
   "source": [
    "Compare the spectra of the Laplacian for isolated examples"
   ]
  },
  {
   "cell_type": "code",
   "execution_count": 7,
   "metadata": {},
   "outputs": [
    {
     "data": {
      "image/png": "[encoded data removed]",
      "text/plain": [
       "<Figure size 931.988x576 with 1 Axes>"
      ]
     },
     "metadata": {
      "needs_background": "light"
     },
     "output_type": "display_data"
    }
   ],
   "source": [
    "## compare the eigenvalue distribution for a single one of: (observed, simulated, null) graphs\n",
    "nbins = 30\n",
    "alpha = 0.8\n",
    "golden_ratio = 1.61803398875\n",
    "\n",
    "plt.figure(figsize=(golden_ratio*8,8))\n",
    "#ax = sns.barplot(x=\"Word\", y=\"Frequency\", data=boxdata)\n",
    "\n",
    "sns.distplot(Laplacian_eigs(Graphs_test[0]), \n",
    "             hist_kws={\"alpha\":alpha, \"histtype\":u'step'}, \n",
    "             bins=nbins, \n",
    "             label='obs', \n",
    "             kde_kws={'clip': (0.0, 1.0), \"linewidth\":2, \"linestyle\":\"dashed\"}, color='k')\n",
    "sns.distplot(Laplacian_eigs(Graphs_nergm[0]), \n",
    "             hist_kws={\"alpha\":alpha, \"histtype\":u'step'}, \n",
    "             bins=nbins, \n",
    "             label='sim (DERGM)', \n",
    "             kde_kws={'clip': (0.0, 1.0), \"linewidth\":2})\n",
    "sns.distplot(Laplacian_eigs(Graphs_null[0]), \n",
    "             hist_kws={\"alpha\":alpha, \"histtype\":u'step'}, \n",
    "             bins=nbins, \n",
    "             label='null', \n",
    "             kde_kws={'clip': (0.0, 1.0), \"linewidth\":2})\n",
    "\n",
    "plt.title('Normalized Spectral Density', fontsize=14)\n",
    "plt.legend()\n",
    "plt.xlabel(r'$\\hat{\\lambda}$', fontsize=14)\n",
    "plt.show()"
   ]
  },
  {
   "cell_type": "markdown",
   "metadata": {},
   "source": [
    "## MMD"
   ]
  },
  {
   "cell_type": "markdown",
   "metadata": {},
   "source": [
    "### degree distribution"
   ]
  },
  {
   "cell_type": "code",
   "execution_count": null,
   "metadata": {},
   "outputs": [],
   "source": [
    "from utils.MMD import *\n",
    "\n",
    "def degrees(Graph):\n",
    "    degs = list(Graph.degree)\n",
    "    return np.sort(np.asarray([degs[i][1] for i in range(len(degs))]))"
   ]
  },
  {
   "cell_type": "code",
   "execution_count": null,
   "metadata": {},
   "outputs": [],
   "source": [
    "x_test = [degrees(Graphs_test[i]) for i in range(len(Graphs_test))]\n",
    "x_nergm = [degrees(Graphs_nergm[i]) for i in range(len(Graphs_nergm))]\n",
    "x_null = [degrees(Graphs_null[i]) for i in range(len(Graphs_null))]"
   ]
  },
  {
   "cell_type": "code",
   "execution_count": null,
   "metadata": {},
   "outputs": [],
   "source": [
    "compute_mmd(x_test, x_nergm, gaussian_emd)"
   ]
  },
  {
   "cell_type": "code",
   "execution_count": null,
   "metadata": {},
   "outputs": [],
   "source": [
    "compute_mmd(x_test, x_null, gaussian_emd)"
   ]
  },
  {
   "cell_type": "code",
   "execution_count": null,
   "metadata": {},
   "outputs": [],
   "source": [
    "compute_mmd(x_nergm, x_null, gaussian_emd)"
   ]
  },
  {
   "cell_type": "markdown",
   "metadata": {},
   "source": [
    "### clustering coefficient distribution"
   ]
  },
  {
   "cell_type": "code",
   "execution_count": null,
   "metadata": {},
   "outputs": [],
   "source": [
    "x_test = [list(nx.clustering(Graphs_test[i]).values()) for i in range(len(Graphs_test))]\n",
    "x_nergm = [list(nx.clustering(Graphs_nergm[i]).values()) for i in range(len(Graphs_nergm))]\n",
    "x_null = [list(nx.clustering(Graphs_null[i]).values()) for i in range(len(Graphs_null))]"
   ]
  },
  {
   "cell_type": "code",
   "execution_count": null,
   "metadata": {},
   "outputs": [],
   "source": [
    "compute_mmd(x_test, x_nergm, gaussian_emd)"
   ]
  },
  {
   "cell_type": "code",
   "execution_count": null,
   "metadata": {},
   "outputs": [],
   "source": [
    "compute_mmd(x_test, x_null, gaussian_emd)"
   ]
  },
  {
   "cell_type": "code",
   "execution_count": null,
   "metadata": {},
   "outputs": [],
   "source": [
    "compute_mmd(x_nergm, x_null, gaussian_emd)"
   ]
  },
  {
   "cell_type": "markdown",
   "metadata": {},
   "source": [
    "### orbit distribution\n",
    "\n",
    "???"
   ]
  },
  {
   "cell_type": "markdown",
   "metadata": {},
   "source": [
    "### MMD for eigenvalue distribution of Laplacian"
   ]
  },
  {
   "cell_type": "code",
   "execution_count": null,
   "metadata": {},
   "outputs": [],
   "source": [
    "eigs_nergm = Laplacian_eigs_set(Graphs_nergm)\n",
    "max_eig_nerg = max([max(eigs_nergm[i]) for i in range(len(eigs_nergm))])\n",
    "\n",
    "eigs_test = Laplacian_eigs_set(Graphs_test)\n",
    "max_eig_test = max([max(eigs_test[i]) for i in range(len(eigs_test))])\n",
    "\n",
    "max_eig = max(max_eig_nerg, max_eig_test)\n",
    "max_eig"
   ]
  },
  {
   "cell_type": "code",
   "execution_count": null,
   "metadata": {},
   "outputs": [],
   "source": [
    "bins = np.linspace(0, max_eig, 5)\n",
    "dist = np.zeros((len(bins), len(bins)))\n",
    "for i in range(len(bins)):\n",
    "    for j in range(len(bins)):\n",
    "        dist[i,j] = np.sqrt((bins[i] - bins[j])**2)"
   ]
  },
  {
   "cell_type": "code",
   "execution_count": null,
   "metadata": {},
   "outputs": [],
   "source": [
    "dist"
   ]
  },
  {
   "cell_type": "code",
   "execution_count": null,
   "metadata": {},
   "outputs": [],
   "source": [
    "d_mat = toeplitz(range(5)).astype(np.float)\n",
    "distance_scaling = 4/max_eig\n",
    "distance_mat = d_mat / distance_scaling\n",
    "distance_mat"
   ]
  },
  {
   "cell_type": "code",
   "execution_count": null,
   "metadata": {},
   "outputs": [],
   "source": [
    "nbins = 40\n",
    "bins = np.linspace(0, max_eig, nbins)\n",
    "distance_scaling = (nbins-1)/max_eig"
   ]
  },
  {
   "cell_type": "code",
   "execution_count": null,
   "metadata": {},
   "outputs": [],
   "source": [
    "hist_nergm = []\n",
    "for i in range(len(Graphs_nergm)):\n",
    "    hist_tmp, _ = np.histogram(Laplacian_eigs(Graphs_nergm[i]), bins=bins)\n",
    "    hist_nergm.append(hist_tmp)\n",
    "    \n",
    "hist_test = []\n",
    "for i in range(len(Graphs_test)):\n",
    "    hist_tmp, _ = np.histogram(Laplacian_eigs(Graphs_test[i]), bins=bins)\n",
    "    hist_test.append(hist_tmp)\n",
    "    \n",
    "hist_null = []\n",
    "for i in range(len(Graphs_null)):\n",
    "    hist_tmp, _ = np.histogram(Laplacian_eigs(Graphs_null[i]), bins=bins)\n",
    "    hist_null.append(hist_tmp)"
   ]
  },
  {
   "cell_type": "code",
   "execution_count": null,
   "metadata": {},
   "outputs": [],
   "source": [
    "compute_mmd(hist_nergm, hist_test, gaussian_emd, distance_scaling=distance_scaling)"
   ]
  },
  {
   "cell_type": "code",
   "execution_count": null,
   "metadata": {},
   "outputs": [],
   "source": [
    "compute_mmd(hist_null, hist_test, gaussian_emd, distance_scaling=distance_scaling)"
   ]
  },
  {
   "cell_type": "markdown",
   "metadata": {},
   "source": [
    "# SGOF\n",
    "\n",
    "Use the method of [Shore, Lubin (2015)](https://arxiv.org/abs/1407.7247). This compares graphs simulated from the model (whatever model it is, ERGM, GraphRNN, etc) to the observed graph and graphs drawn from a \"null hypothesis distribution\", which in this case is the ER distribution. In that paper they considered the case where there is a single observed graph and multiple simulated graphs (all with the same number of nodes). To extend this to the case of having multiple observed graphs, I will just compute the spectral GOF separately for each observed graph and then take the average. There may be more sophisticated solutions than this one."
   ]
  },
  {
   "cell_type": "code",
   "execution_count": null,
   "metadata": {},
   "outputs": [],
   "source": []
  }
 ],
 "metadata": {
  "kernelspec": {
   "display_name": "Python (DERGM)",
   "language": "python",
   "name": "dergm"
  },
  "language_info": {
   "codemirror_mode": {
    "name": "ipython",
    "version": 3
   },
   "file_extension": ".py",
   "mimetype": "text/x-python",
   "name": "python",
   "nbconvert_exporter": "python",
   "pygments_lexer": "ipython3",
   "version": "3.6.10"
  }
 },
 "nbformat": 4,
 "nbformat_minor": 2
}
