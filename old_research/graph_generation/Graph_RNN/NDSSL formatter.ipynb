{
 "cells": [
  {
   "cell_type": "markdown",
   "metadata": {},
   "source": [
    "# NDSSL Formatter\n",
    "\n",
    "This notebook takes the raw NDSSL data (located in the shared One Drive folder) and formats so that algorithms such as deepwalk and node2vec may be applied"
   ]
  },
  {
   "cell_type": "code",
   "execution_count": 13,
   "metadata": {},
   "outputs": [],
   "source": [
    "## imports\n",
    "import numpy as np\n",
    "import pandas as pd"
   ]
  },
  {
   "cell_type": "markdown",
   "metadata": {},
   "source": [
    "## First pass\n",
    "For now, I'll just grab the actual graph and ignore any extra information."
   ]
  },
  {
   "cell_type": "markdown",
   "metadata": {},
   "source": [
    "### Format of \"activities-portland-1-v2.dat\"\n",
    "\n",
    "\"activities-portland-1-v2.dat\" contains the activities performed by each\n",
    "protoentity in the Portland data set.  The time between activities is\n",
    "used to travel from activity to activity.\n",
    "Each line has the following fields:\n",
    "\n",
    "1. Household Id - Household containing the person\n",
    "2. Person Id - Id of the person.\n",
    "3. Activity Id - Id of the activity, numbered sequentially for each household\n",
    "4. Purpose - The purpose of the activity \n",
    "        0 - Home\n",
    "        1 - Work\n",
    "        2 - Shop\n",
    "        3 - Visit\n",
    "        4 - Social/Recreation\n",
    "        5 - Other\n",
    "        6 - Pick up or drop off a passenger\n",
    "        7 - School\n",
    "        8 - College\n",
    "5. Start Time - Time the activity starts, in seconds past midnight\n",
    "6. Duration  - Duration of the activity, in seconds\n",
    "7. Location - Id of the location at which the activity takes place\n",
    "8. SubLocation - Id of the sublocation at which the activity takes place\n"
   ]
  },
  {
   "cell_type": "code",
   "execution_count": 38,
   "metadata": {},
   "outputs": [
    {
     "data": {
      "text/plain": [
       "['2000001 0 2000000 0 39298\\n',\n",
       " '2000002 0 2000000 0 45898\\n',\n",
       " '2000002 0 2000001 0 45298\\n',\n",
       " '2000004 0 2000003 0 50099\\n',\n",
       " '2000005 0 2000003 0 50099\\n',\n",
       " '2000005 0 2000004 0 71099\\n',\n",
       " '2000006 0 2000003 0 50099\\n',\n",
       " '2000006 0 2000004 0 71099\\n',\n",
       " '2000006 0 2000005 0 71099\\n',\n",
       " '2000007 0 2000003 0 50099\\n',\n",
       " '2000007 0 2000004 0 71099\\n',\n",
       " '2000007 0 2000005 0 71099\\n',\n",
       " '2000007 0 2000006 0 71099\\n',\n",
       " '2000008 0 2000003 0 50099\\n',\n",
       " '2000008 0 2000004 0 71099\\n',\n",
       " '2000008 0 2000005 0 71099\\n',\n",
       " '2000008 0 2000006 0 71099\\n',\n",
       " '2000008 0 2000007 0 71099\\n',\n",
       " '2000010 0 2000009 0 43497\\n',\n",
       " '2000012 0 2000011 0 39299\\n',\n",
       " '2000013 0 2000011 0 45899\\n',\n",
       " '2000013 0 2000012 0 45298\\n',\n",
       " '2000015 0 2000014 0 43199\\n',\n",
       " '2000017 0 2000016 0 45298\\n',\n",
       " '2000017 7 2000007 7 5099\\n',\n",
       " '2000018 0 2000016 0 39299\\n',\n",
       " '2000018 0 2000017 0 45899\\n',\n",
       " '2000020 0 2000019 0 86399\\n',\n",
       " '2000021 0 2000019 0 58499\\n',\n",
       " '2000021 0 2000020 0 58499\\n',\n",
       " '2000021 7 2000005 7 5400\\n',\n",
       " '2000023 0 2000022 0 46799\\n',\n",
       " '2000024 0 2000022 0 46799\\n',\n",
       " '2000024 0 2000023 0 46799\\n',\n",
       " '2000025 0 2000022 0 46799\\n',\n",
       " '2000025 0 2000023 0 46799\\n',\n",
       " '2000025 0 2000024 0 65400\\n',\n",
       " '2000027 0 2000026 0 43379\\n',\n",
       " '2000028 0 2000026 0 44999\\n',\n",
       " '2000028 0 2000027 0 46500\\n',\n",
       " '2000030 0 2000029 0 40200\\n',\n",
       " '2000031 0 2000029 0 24299\\n',\n",
       " '2000031 0 2000030 0 21599\\n',\n",
       " '2000032 0 2000029 0 25199\\n',\n",
       " '2000032 0 2000030 0 23399\\n',\n",
       " '2000032 0 2000031 0 27600\\n',\n",
       " '2000033 0 2000029 0 25199\\n',\n",
       " '2000033 0 2000030 0 23399\\n',\n",
       " '2000033 0 2000031 0 27600\\n',\n",
       " '2000033 0 2000032 0 30599\\n',\n",
       " '2000034 8 2000012 8 22500\\n']"
      ]
     },
     "execution_count": 38,
     "metadata": {},
     "output_type": "execute_result"
    }
   ],
   "source": [
    "with open(path + 'contact-portland-1-v2.dat', \"r\") as ins:\n",
    "    array = []\n",
    "    for line in ins:\n",
    "        array.append(line)\n",
    "        if len(array) > 50:\n",
    "            break\n",
    "array"
   ]
  },
  {
   "cell_type": "code",
   "execution_count": 9,
   "metadata": {},
   "outputs": [],
   "source": [
    "path = '/Users/hartnett/OneDrive - RAND Corporation/Deep Generative Modeling for Networks/Network Data/NDSSL RAW/'\n",
    "contact_data = np.fromfile(path + 'contact-portland-1-v2.dat')#, dtype=float)"
   ]
  },
  {
   "cell_type": "code",
   "execution_count": 31,
   "metadata": {},
   "outputs": [],
   "source": [
    "df = pd.read_csv(path + 'contact-portland-1-v2.dat', sep=\",\", header=None)"
   ]
  },
  {
   "cell_type": "code",
   "execution_count": 32,
   "metadata": {},
   "outputs": [
    {
     "data": {
      "text/html": [
       "<div>\n",
       "<style scoped>\n",
       "    .dataframe tbody tr th:only-of-type {\n",
       "        vertical-align: middle;\n",
       "    }\n",
       "\n",
       "    .dataframe tbody tr th {\n",
       "        vertical-align: top;\n",
       "    }\n",
       "\n",
       "    .dataframe thead th {\n",
       "        text-align: right;\n",
       "    }\n",
       "</style>\n",
       "<table border=\"1\" class=\"dataframe\">\n",
       "  <thead>\n",
       "    <tr style=\"text-align: right;\">\n",
       "      <th></th>\n",
       "      <th>0</th>\n",
       "    </tr>\n",
       "  </thead>\n",
       "  <tbody>\n",
       "    <tr>\n",
       "      <th>0</th>\n",
       "      <td>2000001 0 2000000 0 39298</td>\n",
       "    </tr>\n",
       "    <tr>\n",
       "      <th>1</th>\n",
       "      <td>2000002 0 2000000 0 45898</td>\n",
       "    </tr>\n",
       "    <tr>\n",
       "      <th>2</th>\n",
       "      <td>2000002 0 2000001 0 45298</td>\n",
       "    </tr>\n",
       "  </tbody>\n",
       "</table>\n",
       "</div>"
      ],
      "text/plain": [
       "                           0\n",
       "0  2000001 0 2000000 0 39298\n",
       "1  2000002 0 2000000 0 45898\n",
       "2  2000002 0 2000001 0 45298"
      ]
     },
     "execution_count": 32,
     "metadata": {},
     "output_type": "execute_result"
    }
   ],
   "source": [
    "df.iloc[0:3]"
   ]
  },
  {
   "cell_type": "code",
   "execution_count": 33,
   "metadata": {},
   "outputs": [
    {
     "data": {
      "text/plain": [
       "0    2000001 0 2000000 0 39298\n",
       "Name: 0, dtype: object"
      ]
     },
     "execution_count": 33,
     "metadata": {},
     "output_type": "execute_result"
    }
   ],
   "source": [
    "df.iloc[0]"
   ]
  },
  {
   "cell_type": "code",
   "execution_count": 2,
   "metadata": {},
   "outputs": [
    {
     "data": {
      "text/plain": [
       "9"
      ]
     },
     "execution_count": 2,
     "metadata": {},
     "output_type": "execute_result"
    }
   ],
   "source": [
    "import numpy as np\n",
    "np.random.randint(10)"
   ]
  },
  {
   "cell_type": "code",
   "execution_count": 4,
   "metadata": {},
   "outputs": [],
   "source": [
    "def soundifier():\n",
    "    while True:\n",
    "        output = np.random.randint(10)\n",
    "        if output == 9:\n",
    "            return output"
   ]
  },
  {
   "cell_type": "code",
   "execution_count": 8,
   "metadata": {},
   "outputs": [
    {
     "data": {
      "text/plain": [
       "9"
      ]
     },
     "execution_count": 8,
     "metadata": {},
     "output_type": "execute_result"
    }
   ],
   "source": [
    "soundifier()"
   ]
  },
  {
   "cell_type": "code",
   "execution_count": null,
   "metadata": {},
   "outputs": [],
   "source": []
  }
 ],
 "metadata": {
  "kernelspec": {
   "display_name": "Python 3",
   "language": "python",
   "name": "python3"
  },
  "language_info": {
   "codemirror_mode": {
    "name": "ipython",
    "version": 3
   },
   "file_extension": ".py",
   "mimetype": "text/x-python",
   "name": "python",
   "nbconvert_exporter": "python",
   "pygments_lexer": "ipython3",
   "version": "3.7.3"
  }
 },
 "nbformat": 4,
 "nbformat_minor": 2
}
